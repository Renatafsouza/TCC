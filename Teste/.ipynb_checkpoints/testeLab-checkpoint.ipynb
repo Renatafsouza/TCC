{
 "cells": [
  {
   "cell_type": "code",
   "execution_count": 1,
   "metadata": {},
   "outputs": [
    {
     "name": "stdout",
     "output_type": "stream",
     "text": [
      "KMeans(algorithm='auto', copy_x=True, init='k-means++', max_iter=300,\n",
      "    n_clusters=10, n_init=10, n_jobs=None, precompute_distances='auto',\n",
      "    random_state=None, tol=0.0001, verbose=0)\n"
     ]
    }
   ],
   "source": [
    "import numpy as np\n",
    "import cv2\n",
    "from matplotlib import pyplot as plt\n",
    "from sklearn.cluster import KMeans\n",
    "\n",
    "PATH_MELANOMA = '../DermMel/test/Melanoma'\n",
    "PATH_NOTMELANOMA = '../DermMel/test/NotMelanoma'\n",
    "\n",
    "img = cv2.imread(PATH_MELANOMA + '/AUG_0_1467.jpeg',0) # leitura em cinza\n",
    "# Initiate SIFT detector\n",
    "sift = cv2.xfeatures2d.SIFT_create()\n",
    "\n",
    "# encontrando os pontos-de-interesse\n",
    "kp = sift.detect(img,None)\n",
    "\n",
    "# computando o vetor-de-característica para cada ponto dectado no passo anterior\n",
    "kp, des = sift.compute(img, kp)\n",
    "K = 10\n",
    "kmeans_model = KMeans(n_clusters=K).fit(des) #des são os vetores-de-características\n",
    "\n",
    "# criando o dicionário de palavras\n",
    "palavras = np.array(kmeans_model.cluster_centers_)\n",
    "print(kmeans_model)\n",
    "#desenhando os pontos na imagem\n",
    "#img2 = cv2.drawKeypoints(img, kp, None)\n",
    "\n",
    "#plt.imshow(img2),plt.show()"
   ]
  },
  {
   "cell_type": "code",
   "execution_count": null,
   "metadata": {},
   "outputs": [],
   "source": [
    "def gravar_arquivo_arff(base_teste, classes): # 0 para NAO_MELANOMA e 1 para MELANOMA\n",
    "    tam = len(base_teste[0][0])\n",
    "    file = open('cance.arff','w') \n",
    " \n",
    "    file.write('@relation cancer\\n') \n",
    "    for i in range(tam):\n",
    "        file.write('@attribute '+ str(i) +' NUMERIC\\n') \n",
    "    \n",
    "    file.write('@attribute classes {')\n",
    "    \n",
    "    a = set(classes)\n",
    "    \n",
    "    for i in a:\n",
    "        file.write(str(i)+',')\n",
    "    \n",
    "    file.write('}')    \n",
    "    \n",
    "    for i in range(tam):\n",
    "         len(set(classes))\n",
    "    \n",
    "    file.write('\\n@data\\n') \n",
    "\n",
    "    for item in base_teste:\n",
    "        for i in range(len(item[0])):\n",
    "            file.write(\"%s,\" % str(item[0][i])) \n",
    "        file.write(\"%s\\n\" % item[1])    \n",
    " \n",
    "    file.close() \n",
    "    print('arquivo gravado')"
   ]
  },
  {
   "cell_type": "code",
   "execution_count": null,
   "metadata": {},
   "outputs": [],
   "source": [
    "def distancia(a, b):\n",
    "    M = len(a)\n",
    "    soma = 0\n",
    "    for i in range(M):\n",
    "        soma = soma + ((a[i]-b[i])**2)\n",
    "    return np.sqrt(soma) \n",
    "\n",
    "def extrair_caracteristica(img):\n",
    "    #plt.imshow(img)\n",
    "    sift = cv2.xfeatures2d.SIFT_create()\n",
    "    kp = sift.detect(img,None) # encontrando os pontos-de-interesse\n",
    "    #print('Qtde Pontos Detectados: ', len(kp))\n",
    "    # computando o vetor-de-característica para cada ponto dectado no passo anterior\n",
    "    kp, des = sift.compute(img, kp)\n",
    "    \n",
    "    palavras = np.array(kmeans_model.cluster_centers_)\n",
    "    #print(palavras)\n",
    "    return palavras"
   ]
  },
  {
   "cell_type": "code",
   "execution_count": null,
   "metadata": {},
   "outputs": [],
   "source": [
    "PATH_MELANOMA = '../DermMel/test/Melanoma'\n",
    "PATH_NOTMELANOMA = '../DermMel/test/NotMelanoma'\n",
    "\n",
    "img = cv2.imread(PATH_MELANOMA+'/AUG_0_1467.jpeg')\n",
    "\n",
    "caractericas = extrair_caracteristica(img)\n",
    "\n",
    "print(caractericas)"
   ]
  },
  {
   "cell_type": "code",
   "execution_count": null,
   "metadata": {},
   "outputs": [],
   "source": [
    "import cv2 as cv2\n",
    "import numpy as np\n",
    "import matplotlib.pyplot as plt\n",
    "import os\n",
    "from sklearn.cluster import KMeans\n",
    "from sklearn import metrics\n",
    "\n",
    "PATH_MELANOMA = '../DermMel/test/Melanoma'\n",
    "PATH_NOTMELANOMA = '../DermMel/test/NotMelanoma'\n",
    "\n",
    "files_path_nao_melanoma = [os.path.abspath(x) for x in os.listdir(PATH_MELANOMA) if x.endswith('.jpeg' or '.jpg')]       \n",
    "files_path_melanoma = [os.path.abspath(x) for x in os.listdir(PATH_NOTMELANOMA) if x.endswith('.jpg' or '.jpeg')] \n",
    "\n",
    "all_image_paths = [files_path_nao_melanoma, files_path_melanoma]\n",
    "\n",
    "base = []\n",
    "classes = []\n",
    "\n",
    "#extraindo as características das imagens na base de dados\n",
    "for i in range(len(all_image_paths)):\n",
    "    for img_path in all_image_paths[i][:5]:\n",
    "        imagem = cv2.imread(img_path)\n",
    "        caracteristica = extrair_caracteristica(imagem)\n",
    "        classes.append(i)\n",
    "        base.append((caracteristica, i))\n",
    "    print('Classe final: '+str(i))\n",
    "\n",
    "gravar_arquivo_arff(base, classes) "
   ]
  }
 ],
 "metadata": {
  "kernelspec": {
   "display_name": "Python 3",
   "language": "python",
   "name": "python3"
  },
  "language_info": {
   "codemirror_mode": {
    "name": "ipython",
    "version": 3
   },
   "file_extension": ".py",
   "mimetype": "text/x-python",
   "name": "python",
   "nbconvert_exporter": "python",
   "pygments_lexer": "ipython3",
   "version": "3.5.5"
  }
 },
 "nbformat": 4,
 "nbformat_minor": 2
}
