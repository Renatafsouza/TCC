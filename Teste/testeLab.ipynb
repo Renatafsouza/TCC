{
 "cells": [
  {
   "cell_type": "markdown",
   "metadata": {},
   "source": [
    "## LBP para geração de histograma"
   ]
  },
  {
   "cell_type": "code",
   "execution_count": 20,
   "metadata": {},
   "outputs": [],
   "source": [
    "'''\n",
    "Método de extração de arquivo .arff. Autor: Glauco Vitor.\n",
    "'''\n",
    "\n",
    "def gravar_arquivo_arff(base_teste, classes): # 0 para NAO_MELANOMA e 1 para MELANOMA\n",
    "    tam = len(base_teste[0][0])\n",
    "    file = open('lbp.arff','w') \n",
    " \n",
    "    file.write('@relation cancer\\n') \n",
    "    for i in range(tam):\n",
    "        file.write('@attribute '+ str(i) +' NUMERIC\\n') \n",
    "    \n",
    "    file.write('@attribute classes {')\n",
    "    \n",
    "    a = set(classes)\n",
    "    \n",
    "    for i in a:\n",
    "        file.write(str(i)+',')\n",
    "    \n",
    "    file.write('}')    \n",
    "    \n",
    "    for i in range(tam):\n",
    "         len(set(classes))\n",
    "    \n",
    "    file.write('\\n@data\\n') \n",
    "\n",
    "    for item in base_teste:\n",
    "        for i in range(len(item[0])):\n",
    "            file.write(\"%s,\" % str(item[0][i])) \n",
    "        file.write(\"%s\\n\" % item[1])    \n",
    " \n",
    "    file.close() \n",
    "    print('arquivo gravado')\n"
   ]
  },
  {
   "cell_type": "code",
   "execution_count": 21,
   "metadata": {},
   "outputs": [],
   "source": [
    "'''\n",
    "Distância euclidiana para a atribuição dos centróides a cada elemento da imagem.\n",
    "'''\n",
    "\n",
    "def distancia(a, b):\n",
    "    M = len(a)\n",
    "    soma = 0\n",
    "    for i in range(M):\n",
    "        soma = soma + ((a[i]-b[i])**2)\n",
    "    return np.sqrt(soma)\n"
   ]
  },
  {
   "cell_type": "code",
   "execution_count": 22,
   "metadata": {},
   "outputs": [],
   "source": [
    "from skimage import feature\n",
    "import numpy as np\n",
    " \n",
    "\n",
    "\n",
    "def extrair_caracteristica(image):\n",
    "    # compute the Local Binary Pattern representation\n",
    "    # of the image, and then use the LBP representation\n",
    "    # to build the histogram of patterns\n",
    "    \n",
    "    numPoints = 8\n",
    "    radius = 1\n",
    "    eps=1e-7\n",
    "    \n",
    "    lbp = feature.local_binary_pattern(image, numPoints, radius, method=\"default\")\n",
    "    (hist, _) = np.histogram(lbp.ravel(),\n",
    "        bins = np.arange(0, 257),\n",
    "        range = (0, numPoints + 2))\n",
    "\n",
    "    # normalize the histogram\n",
    "    hist = hist.astype(\"float\")\n",
    "    hist /= (hist.sum() + eps)\n",
    "    \n",
    "    # return the histogram of Local Binary Patterns\n",
    "    return hist  # hist.lenght = K + 2"
   ]
  },
  {
   "cell_type": "code",
   "execution_count": 23,
   "metadata": {},
   "outputs": [
    {
     "name": "stdout",
     "output_type": "stream",
     "text": [
      "Classe final: 0\n",
      "Size hist: \n",
      "256\n",
      "Classe final: 1\n",
      "Size hist: \n",
      "256\n",
      "arquivo gravado\n"
     ]
    }
   ],
   "source": [
    "import cv2 as cv2\n",
    "import numpy as np\n",
    "import matplotlib.pyplot as plt\n",
    "import os\n",
    "from sklearn.cluster import KMeans\n",
    "from sklearn import metrics\n",
    "\n",
    "files_path_nao_melanoma = os.listdir(PATH_NOTMELANOMA) \n",
    "files_path_nao_melanoma = [PATH_NOTMELANOMA+'/'+path for path in files_path_nao_melanoma]\n",
    "files_path_melanoma = os.listdir(PATH_MELANOMA)\n",
    "files_path_melanoma = [PATH_MELANOMA+'/'+path for path in files_path_melanoma]\n",
    "\n",
    "\n",
    "all_image_paths = [files_path_nao_melanoma, files_path_melanoma]\n",
    "\n",
    "base = []\n",
    "classes = []\n",
    "\n",
    "#extraindo as características das imagens na base de dados\n",
    "for i in range(len(all_image_paths)):\n",
    "    for img_path in all_image_paths[i][:500]:\n",
    "        imagem = cv2.imread(img_path)\n",
    "        imagem = cv2.cvtColor(imagem, cv2.COLOR_BGR2GRAY)\n",
    "        caracteristica = extrair_caracteristica(imagem)\n",
    "        classes.append(i)\n",
    "        base.append((caracteristica, i))\n",
    "    print('Classe final: '+str(i))\n",
    "    print('Size hist: ')\n",
    "    print(len(caracteristica))\n",
    "\n",
    "gravar_arquivo_arff(base, classes)"
   ]
  },
  {
   "cell_type": "code",
   "execution_count": null,
   "metadata": {},
   "outputs": [],
   "source": []
  }
 ],
 "metadata": {
  "kernelspec": {
   "display_name": "Python 3",
   "language": "python",
   "name": "python3"
  },
  "language_info": {
   "codemirror_mode": {
    "name": "ipython",
    "version": 3
   },
   "file_extension": ".py",
   "mimetype": "text/x-python",
   "name": "python",
   "nbconvert_exporter": "python",
   "pygments_lexer": "ipython3",
   "version": "3.5.7"
  }
 },
 "nbformat": 4,
 "nbformat_minor": 2
}
